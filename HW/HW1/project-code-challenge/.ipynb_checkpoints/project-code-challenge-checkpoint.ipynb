{
 "cells": [
  {
   "cell_type": "markdown",
   "metadata": {},
   "source": [
    "<img src=\"http://imgur.com/1ZcRyrc.png\" style=\"float: left; margin: 20px; height: 55px\">\n",
    "\n",
    "# Project 1: Python Coding Exercises\n",
    "\n",
    "_Authors: Joseph Nelson (DC) _\n",
    "\n",
    "---"
   ]
  },
  {
   "cell_type": "markdown",
   "metadata": {},
   "source": [
    "The following code challenges are drawn from common exercises used in technical interviews.\n",
    "\n",
    "Please note that there may be several ways to approach each challenge. If you get stuck, try mapping out your approach in pseudocode first. Finally, while solutions to problems like these may be found online, remember that if you copy/paste code that you can't explain, you'll be missing out on the point of the project. The only way to truly learn a new skill is through practice, trial, and error - we can only help you improve by understanding where you are having trouble."
   ]
  },
  {
   "cell_type": "markdown",
   "metadata": {},
   "source": [
    "### Challenge 1: Largest Palindrome\n",
    "A palindromic number reads the same both ways. For example, 1234321 is a palindrome. The largest palindrome made from the product of two two-digit numbers is 9009 = 91 × 99. Find the largest palindrome made from the product of two three-digit numbers. Afterward, write a brief explanation walking through your code's logic in markdown."
   ]
  },
  {
   "cell_type": "code",
   "execution_count": 43,
   "metadata": {},
   "outputs": [],
   "source": [
    "def palindrome_check(product):\n",
    "    if product[0] == product[5] and product[1] == product[4] and product[2] == product[3]:\n",
    "        return 'Palindrome'\n",
    "    else:\n",
    "        return False"
   ]
  },
  {
   "cell_type": "code",
   "execution_count": 44,
   "metadata": {},
   "outputs": [],
   "source": [
    "three_digit_list = list(range(100,1000))"
   ]
  },
  {
   "cell_type": "code",
   "execution_count": 45,
   "metadata": {},
   "outputs": [],
   "source": [
    "second_three_digit_list = list(range(100,1000))"
   ]
  },
  {
   "cell_type": "code",
   "execution_count": 46,
   "metadata": {},
   "outputs": [],
   "source": [
    "product_list = []\n",
    "for x in three_digit_list:\n",
    "    for z in second_three_digit_list:\n",
    "        product_list.append(x*z)"
   ]
  },
  {
   "cell_type": "code",
   "execution_count": 47,
   "metadata": {},
   "outputs": [],
   "source": [
    "six_digit_product_list = []\n",
    "for x in product_list:\n",
    "    if x > 100000:\n",
    "        six_digit_product_list.append(x)"
   ]
  },
  {
   "cell_type": "code",
   "execution_count": 48,
   "metadata": {},
   "outputs": [],
   "source": [
    "palindrome_list = []\n",
    "for x in six_digit_product_list:\n",
    "    if palindrome_check(str(x)) == 'Palindrome':\n",
    "        palindrome_list.append(x)"
   ]
  },
  {
   "cell_type": "code",
   "execution_count": 56,
   "metadata": {},
   "outputs": [
    {
     "name": "stdout",
     "output_type": "stream",
     "text": [
      "906609\n"
     ]
    }
   ],
   "source": [
    "print(max(palindrome_list))"
   ]
  },
  {
   "cell_type": "markdown",
   "metadata": {},
   "source": [
    "I created a function called \"palindrome_check\" that checks index position pairs of a six digit number to see if they match. If all of the index pairs match, then the function returns a string 'palindrome' and returns False if it is not a palindrome. Then I made two lists of numbers from 100-999. I then made a for loop that takes the product of each number in both lists and adds them to a new list called \"product_list.\" Since this list had a lot of five digit numbers, I created a subsequent list of only six digit products. Then I made a loop that checks to see if the numbers in this list are palindromes using the function I created at the start. Then I printed the max value in that list, which was 906,609."
   ]
  },
  {
   "cell_type": "markdown",
   "metadata": {},
   "source": [
    "\n",
    "### Challenge 2: Summation of Primes\n",
    "The sum of the primes below 10 is 2 + 3 + 5 + 7 = 17. Find the sum of all the primes below 2,000. Afterward, write a brief explanation walking through your code's logic in markdown."
   ]
  },
  {
   "cell_type": "code",
   "execution_count": 1,
   "metadata": {},
   "outputs": [],
   "source": [
    "numbers = list(range(1,2000))"
   ]
  },
  {
   "cell_type": "code",
   "execution_count": 4,
   "metadata": {},
   "outputs": [],
   "source": [
    "mods_list = []\n",
    "def is_prime(number):\n",
    "    for x in numbers:\n",
    "        mod = number%x\n",
    "        mods_list.append(mod)\n",
    "    count_of_zeros = 0\n",
    "    for x in mods_list:\n",
    "        if x == 0:\n",
    "            count_of_zeros += 1\n",
    "    if count_of_zeros <= 2:\n",
    "        return 'prime'\n",
    "    else:\n",
    "        return 'not prime'"
   ]
  },
  {
   "cell_type": "code",
   "execution_count": 5,
   "metadata": {},
   "outputs": [],
   "source": [
    "second_numbers = list(range(1,2000))"
   ]
  },
  {
   "cell_type": "code",
   "execution_count": null,
   "metadata": {},
   "outputs": [],
   "source": [
    "prime_list = []\n",
    "for z in second_numbers:\n",
    "    is_prime(z)"
   ]
  },
  {
   "cell_type": "code",
   "execution_count": null,
   "metadata": {},
   "outputs": [],
   "source": [
    "def adder(list_of_primes):\n",
    "    sum_of_primes = 0\n",
    "    for number in list_of_primes:\n",
    "        if is_prime(number) == 'prime':\n",
    "            sum_of_primes += number\n",
    "    return sum_of_primes"
   ]
  },
  {
   "cell_type": "markdown",
   "metadata": {},
   "source": [
    "First, I created a list of numbers from 1-1,999. Then I created a method called \"is_prime\" which takes a number as an input, and returns a string of \"prime\" or \"not prime.\" In this method, I made a loop that takes the mod of the input by every number in the list I created, and adds it to a new list called \"mods_list.\" After the loop, I made a variable called \"count_of_zeros\" and set it equal to 0. Then I made another loop that checks to see if a mod in the list of mods is equal to 0 or not. If it is equal to zero, 1 is added to \"count_of_zeros.\" Then I made an if statement that checks if the variable \"count_of_zeros\" is less than or equal to 2, since every number is divisible by itself and one. If \"count_of_zeros\" was less than or equal to 2, then the function would return \"prime,\" otherwise, it would return \"not prime.\" However, after finishing this method, I realized that I need to implement this method on the list I created, which is numbers from 1-1,999. But, my method only works with a single int as an input. So I tried to make a nested loop that would make a two dimensional list that would be the number being tested in one part, and then the mod list in the second part of the list. Then I would've modified the subsequent parts of my method to work with a list. I would then modify the method I made called \"adder\" to take the sum of all of the primes. "
   ]
  },
  {
   "cell_type": "markdown",
   "metadata": {},
   "source": [
    "### Challenge 3: Multiples of 3 and 5\n",
    "If we list all of the natural numbers below 10 that are multiples of 3 or 5, we get 3, 5, 6, and 9. The sum of these multiples is 23. Find the sum of all the multiples of 3 and 5 below 1,000. Afterward, write a brief explanation walking through your code's logic in markdown."
   ]
  },
  {
   "cell_type": "code",
   "execution_count": 6,
   "metadata": {},
   "outputs": [],
   "source": [
    "numbers = list(range(1,1000))"
   ]
  },
  {
   "cell_type": "code",
   "execution_count": 7,
   "metadata": {},
   "outputs": [],
   "source": [
    "sum_multiples = 0\n",
    "for x in numbers:\n",
    "    if x % 3 == 0 or x % 5 == 0:\n",
    "        sum_multiples += x"
   ]
  },
  {
   "cell_type": "code",
   "execution_count": 8,
   "metadata": {},
   "outputs": [
    {
     "data": {
      "text/plain": [
       "233168"
      ]
     },
     "execution_count": 8,
     "metadata": {},
     "output_type": "execute_result"
    }
   ],
   "source": [
    "sum_multiples"
   ]
  },
  {
   "cell_type": "markdown",
   "metadata": {},
   "source": [
    "First, I made a list from 1-999. Then I made a variable called \"sum_multiples\" and set it equal to zero. Then I made a for loop that checked all numbers in the set of numbers that I created before to see if they were divisible by 3 or 5 using the mod function. If the number was a multiple of 3 or 5, the number being checked would be added to \"sum_multiples\" until the loop reached 999. The end result was 233,168."
   ]
  },
  {
   "cell_type": "markdown",
   "metadata": {},
   "source": [
    "### Challenge 4: String Compressor\n",
    "Implement a method to perform basic string compression using the counts of repeated characters. (This is called run-length encoding.) For example, the string \"aabcccccaaa\" would become a2b1c5a3. If the “compressed” string would not become smaller than the original string, your method should return the original string. You can assume the string has only uppercase and lowercase letters (a–z). Specify whether your solution is case sensitive or case insensitive and what you would need to change to make it the other. Afterward, write a brief explanation walking through your code's logic in markdown."
   ]
  },
  {
   "cell_type": "code",
   "execution_count": 164,
   "metadata": {},
   "outputs": [],
   "source": [
    "def string_compress(word):\n",
    "    count_letter = 1\n",
    "    count_duplicates = 1\n",
    "    duplicates_list = []\n",
    "    string_list = []\n",
    "    previous = ''\n",
    "    for x in word:\n",
    "        if x == previous:\n",
    "            count_duplicates += 1\n",
    "            string_list.append(x)\n",
    "            duplicates_list.append(count_duplicates)\n",
    "        else:\n",
    "            count_letter = 1\n",
    "            string_list.append(x)\n",
    "            string_list.append(count_letter)\n",
    "        previous = x\n",
    "        string_list.append(max(duplicates_list))\n",
    "    \n",
    "    only_string_list = []\n",
    "    for x in string_list:\n",
    "        only_string_list.append(str(x))\n",
    "        \n",
    "    new_string = ''.join(only_string_list)\n",
    "    \n",
    "    if len(new_string) > len(word):\n",
    "        return word\n",
    "    else:\n",
    "        return new_string"
   ]
  },
  {
   "cell_type": "code",
   "execution_count": 165,
   "metadata": {},
   "outputs": [
    {
     "ename": "ValueError",
     "evalue": "max() arg is an empty sequence",
     "output_type": "error",
     "traceback": [
      "\u001b[0;31m---------------------------------------------------------------------------\u001b[0m",
      "\u001b[0;31mValueError\u001b[0m                                Traceback (most recent call last)",
      "\u001b[0;32m<ipython-input-165-78a69be4e1eb>\u001b[0m in \u001b[0;36m<module>\u001b[0;34m\u001b[0m\n\u001b[0;32m----> 1\u001b[0;31m \u001b[0mstring_compress\u001b[0m\u001b[0;34m(\u001b[0m\u001b[0;34m'helllo'\u001b[0m\u001b[0;34m)\u001b[0m\u001b[0;34m\u001b[0m\u001b[0;34m\u001b[0m\u001b[0m\n\u001b[0m",
      "\u001b[0;32m<ipython-input-164-a5edd36e04ee>\u001b[0m in \u001b[0;36mstring_compress\u001b[0;34m(word)\u001b[0m\n\u001b[1;32m     15\u001b[0m             \u001b[0mstring_list\u001b[0m\u001b[0;34m.\u001b[0m\u001b[0mappend\u001b[0m\u001b[0;34m(\u001b[0m\u001b[0mcount_letter\u001b[0m\u001b[0;34m)\u001b[0m\u001b[0;34m\u001b[0m\u001b[0;34m\u001b[0m\u001b[0m\n\u001b[1;32m     16\u001b[0m         \u001b[0mprevious\u001b[0m \u001b[0;34m=\u001b[0m \u001b[0mx\u001b[0m\u001b[0;34m\u001b[0m\u001b[0;34m\u001b[0m\u001b[0m\n\u001b[0;32m---> 17\u001b[0;31m         \u001b[0mstring_list\u001b[0m\u001b[0;34m.\u001b[0m\u001b[0mappend\u001b[0m\u001b[0;34m(\u001b[0m\u001b[0mmax\u001b[0m\u001b[0;34m(\u001b[0m\u001b[0mduplicates_list\u001b[0m\u001b[0;34m)\u001b[0m\u001b[0;34m)\u001b[0m\u001b[0;34m\u001b[0m\u001b[0;34m\u001b[0m\u001b[0m\n\u001b[0m\u001b[1;32m     18\u001b[0m \u001b[0;34m\u001b[0m\u001b[0m\n\u001b[1;32m     19\u001b[0m     \u001b[0monly_string_list\u001b[0m \u001b[0;34m=\u001b[0m \u001b[0;34m[\u001b[0m\u001b[0;34m]\u001b[0m\u001b[0;34m\u001b[0m\u001b[0;34m\u001b[0m\u001b[0m\n",
      "\u001b[0;31mValueError\u001b[0m: max() arg is an empty sequence"
     ]
    }
   ],
   "source": [
    "string_compress('helllo')"
   ]
  },
  {
   "cell_type": "markdown",
   "metadata": {},
   "source": [
    "For this question, I tried to make a method called \"string_compress\" that took a string as in input and returned a string. First, I created two variables, \"count_letter\" and \"count_duplicates\" and set them both equal to 1. I also created two lists, \"duplicates_list\" and \"string_list\" and set them equal to an empty list. Then I made a variable called \"previous\" and set it equal to an empty string, so that I could have a loop check consecutive elements in a string. Then I made a loop that checks through characters in a string. At the end of the loop, the string previous becomes x, which is the character in the string. If the character being checked matches the previous character, then 1 is added to \"count_duplicates\" and \"string_list\" is appended by that character and \"duplicates_list\" is appended by \"count_duplicates.\" If the characters do not match, then \"count_letter\" stays at 1, and the character and \"count_letter\" is appended to \"string_list.\" However, this would print each time \"duplicates_count\" was added, which makes the list longer than I wanted. At the end, I created a line that turns \"string_list\" into a string called \"new_string.\" Then if the length of this new string is bigger than the length of the inputted string, it simply returns the input. If the length of the new string is shorter than the input string, it return the new string."
   ]
  },
  {
   "cell_type": "markdown",
   "metadata": {},
   "source": [
    "### *BONUS* Challenge: FizzBuzz\n",
    "Write a program that prints all of the numbers from 1 to 100. For multiples of 3, instead of the number, print \"Fizz;\" for multiples of 5, print \"Buzz.\" For numbers that are multiples of both 3 and 5, print \"FizzBuzz.\" Afterward, write a brief explanation walking through your code's logic in markdown."
   ]
  },
  {
   "cell_type": "code",
   "execution_count": null,
   "metadata": {
    "collapsed": true
   },
   "outputs": [],
   "source": []
  }
 ],
 "metadata": {
  "anaconda-cloud": {},
  "kernelspec": {
   "display_name": "Python 3",
   "language": "python",
   "name": "python3"
  },
  "language_info": {
   "codemirror_mode": {
    "name": "ipython",
    "version": 3
   },
   "file_extension": ".py",
   "mimetype": "text/x-python",
   "name": "python",
   "nbconvert_exporter": "python",
   "pygments_lexer": "ipython3",
   "version": "3.6.8"
  }
 },
 "nbformat": 4,
 "nbformat_minor": 2
}
